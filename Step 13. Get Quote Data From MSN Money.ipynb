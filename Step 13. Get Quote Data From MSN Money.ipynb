{
 "cells": [
  {
   "cell_type": "code",
   "execution_count": 1,
   "metadata": {},
   "outputs": [
    {
     "name": "stdout",
     "output_type": "stream",
     "text": [
      "Start Crawling Page...\n"
     ]
    },
    {
     "name": "stderr",
     "output_type": "stream",
     "text": [
      "/anaconda2/envs/python3env/lib/python3.6/site-packages/selenium/webdriver/phantomjs/webdriver.py:49: UserWarning: Selenium support for PhantomJS has been deprecated, please use headless versions of Chrome or Firefox instead\n",
      "  warnings.warn('Selenium support for PhantomJS has been deprecated, please use headless '\n"
     ]
    },
    {
     "name": "stdout",
     "output_type": "stream",
     "text": [
      "Sleep...\n",
      "Crawling Page Finish!\n"
     ]
    }
   ],
   "source": [
    "from lib.quote import Quote\n",
    "quote = Quote('000423')\n",
    "soup = quote.getPage()"
   ]
  },
  {
   "cell_type": "code",
   "execution_count": 2,
   "metadata": {},
   "outputs": [
    {
     "data": {
      "text/plain": [
       "{'Open': ['53.50'],\n",
       " 'Previous Close': ['52.76'],\n",
       " 'Volume (Avg) ': ['3.25M (5.26M)'],\n",
       " \"Day's Range\": ['52.61-53.94'],\n",
       " '52Wk Range': ['51.40-72.58'],\n",
       " 'Market Cap.': ['35.19B'],\n",
       " 'Dividend Rate (Yield)': ['0.80 (1.67%)'],\n",
       " 'Beta': ['0.76'],\n",
       " 'Shares Outstanding': ['654.02M'],\n",
       " 'P/E Ratio (EPS)': ['17.18 (3.13) ']}"
      ]
     },
     "execution_count": 2,
     "metadata": {},
     "output_type": "execute_result"
    }
   ],
   "source": [
    "data = {}\n",
    "ul = soup.find('ul', {'class': 'today-trading-container'})\n",
    "liList = ul.findAll('li')\n",
    "for li in liList:\n",
    "    pList = li.findAll('p')\n",
    "    data[pList[0].getText()] = [pList[1].getText()]\n",
    "data"
   ]
  },
  {
   "cell_type": "code",
   "execution_count": 4,
   "metadata": {},
   "outputs": [
    {
     "data": {
      "text/html": [
       "<div>\n",
       "<style scoped>\n",
       "    .dataframe tbody tr th:only-of-type {\n",
       "        vertical-align: middle;\n",
       "    }\n",
       "\n",
       "    .dataframe tbody tr th {\n",
       "        vertical-align: top;\n",
       "    }\n",
       "\n",
       "    .dataframe thead th {\n",
       "        text-align: right;\n",
       "    }\n",
       "</style>\n",
       "<table border=\"1\" class=\"dataframe\">\n",
       "  <thead>\n",
       "    <tr style=\"text-align: right;\">\n",
       "      <th></th>\n",
       "      <th>52Wk Range</th>\n",
       "      <th>Beta</th>\n",
       "      <th>Day's Range</th>\n",
       "      <th>Dividend Rate (Yield)</th>\n",
       "      <th>Market Cap.</th>\n",
       "      <th>Open</th>\n",
       "      <th>P/E Ratio (EPS)</th>\n",
       "      <th>Previous Close</th>\n",
       "      <th>Shares Outstanding</th>\n",
       "      <th>Volume (Avg)</th>\n",
       "    </tr>\n",
       "  </thead>\n",
       "  <tbody>\n",
       "    <tr>\n",
       "      <th>0</th>\n",
       "      <td>51.40-72.58</td>\n",
       "      <td>0.76</td>\n",
       "      <td>52.61-53.94</td>\n",
       "      <td>0.80 (1.67%)</td>\n",
       "      <td>35.19B</td>\n",
       "      <td>53.50</td>\n",
       "      <td>17.18 (3.13)</td>\n",
       "      <td>52.76</td>\n",
       "      <td>654.02M</td>\n",
       "      <td>3.25M (5.26M)</td>\n",
       "    </tr>\n",
       "  </tbody>\n",
       "</table>\n",
       "</div>"
      ],
      "text/plain": [
       "    52Wk Range  Beta  Day's Range Dividend Rate (Yield) Market Cap.   Open  \\\n",
       "0  51.40-72.58  0.76  52.61-53.94          0.80 (1.67%)      35.19B  53.50   \n",
       "\n",
       "  P/E Ratio (EPS) Previous Close Shares Outstanding  Volume (Avg)   \n",
       "0   17.18 (3.13)           52.76            654.02M  3.25M (5.26M)  "
      ]
     },
     "execution_count": 4,
     "metadata": {},
     "output_type": "execute_result"
    }
   ],
   "source": [
    "import pandas as pd\n",
    "df = pd.DataFrame(data)\n",
    "df"
   ]
  },
  {
   "cell_type": "code",
   "execution_count": null,
   "metadata": {},
   "outputs": [],
   "source": []
  }
 ],
 "metadata": {
  "kernelspec": {
   "display_name": "Python 3",
   "language": "python",
   "name": "python3"
  },
  "language_info": {
   "codemirror_mode": {
    "name": "ipython",
    "version": 3
   },
   "file_extension": ".py",
   "mimetype": "text/x-python",
   "name": "python",
   "nbconvert_exporter": "python",
   "pygments_lexer": "ipython3",
   "version": "3.6.5"
  }
 },
 "nbformat": 4,
 "nbformat_minor": 2
}
