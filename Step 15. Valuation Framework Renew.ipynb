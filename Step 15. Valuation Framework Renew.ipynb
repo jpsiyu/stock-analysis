{
 "cells": [
  {
   "cell_type": "markdown",
   "metadata": {},
   "source": [
    "# 四条投资原则\n",
    "本文选择巴菲特的四条投资原则，对东阿阿胶这家企业进行分析：\n",
    "- 企业由警惕的领导者管理\n",
    "- 产品具有长远的生命力\n",
    "- 稳定，可以理解的生意\n",
    "- 价格具有安全边际"
   ]
  },
  {
   "cell_type": "markdown",
   "metadata": {},
   "source": [
    "# 警惕的领导者\n",
    "企业领导者细心观察生意，发现及预防可能出现的危险。东阿阿胶的领导者秦玉峰说了xxx,做了xxx,效果xxx\n"
   ]
  },
  {
   "cell_type": "markdown",
   "metadata": {},
   "source": [
    "从财务的角度上，债务是企业的主要危险之一，本文通过两个工具来衡量东阿阿胶的债务情况。\n",
    "1. 负债权益比，衡量的标准是 <0.5，东阿阿胶的负债权益比如下表(NaN表示0)，非常健康\n",
    "2. 流动比率，衡量的标准是 >1.5，东阿阿胶的流动比率远大于1.5，非常健康"
   ]
  },
  {
   "cell_type": "code",
   "execution_count": 1,
   "metadata": {
    "collapsed": true
   },
   "outputs": [
    {
     "name": "stdout",
     "output_type": "stream",
     "text": [
      "Read from local finish\n",
      "Read from local finish\n",
      "Read from local finish\n",
      "Read from local finish\n",
      "Read from local finish\n",
      "Fetch all data finish!\n"
     ]
    }
   ],
   "source": [
    "from lib.business import Business\n",
    "business = Business('000423')\n",
    "business.fetchData()"
   ]
  },
  {
   "cell_type": "code",
   "execution_count": 2,
   "metadata": {},
   "outputs": [
    {
     "data": {
      "text/html": [
       "<div>\n",
       "<style scoped>\n",
       "    .dataframe tbody tr th:only-of-type {\n",
       "        vertical-align: middle;\n",
       "    }\n",
       "\n",
       "    .dataframe tbody tr th {\n",
       "        vertical-align: top;\n",
       "    }\n",
       "\n",
       "    .dataframe thead th {\n",
       "        text-align: right;\n",
       "    }\n",
       "</style>\n",
       "<table border=\"1\" class=\"dataframe\">\n",
       "  <thead>\n",
       "    <tr style=\"text-align: right;\">\n",
       "      <th></th>\n",
       "      <th>Short-term debt</th>\n",
       "      <th>Other long-term liabilities</th>\n",
       "      <th>Total stockholders' equity</th>\n",
       "      <th>Total current assets</th>\n",
       "      <th>Total current liabilities</th>\n",
       "      <th>负债权益比</th>\n",
       "      <th>流动比率</th>\n",
       "    </tr>\n",
       "    <tr>\n",
       "      <th>Year</th>\n",
       "      <th></th>\n",
       "      <th></th>\n",
       "      <th></th>\n",
       "      <th></th>\n",
       "      <th></th>\n",
       "      <th></th>\n",
       "      <th></th>\n",
       "    </tr>\n",
       "  </thead>\n",
       "  <tbody>\n",
       "    <tr>\n",
       "      <th>2013</th>\n",
       "      <td>NaN</td>\n",
       "      <td>97.0</td>\n",
       "      <td>5002.0</td>\n",
       "      <td>4083.0</td>\n",
       "      <td>798.0</td>\n",
       "      <td>NaN</td>\n",
       "      <td>5.12</td>\n",
       "    </tr>\n",
       "    <tr>\n",
       "      <th>2014</th>\n",
       "      <td>NaN</td>\n",
       "      <td>NaN</td>\n",
       "      <td>5922.0</td>\n",
       "      <td>5427.0</td>\n",
       "      <td>1357.0</td>\n",
       "      <td>NaN</td>\n",
       "      <td>4.00</td>\n",
       "    </tr>\n",
       "    <tr>\n",
       "      <th>2015</th>\n",
       "      <td>80.0</td>\n",
       "      <td>0.0</td>\n",
       "      <td>7014.0</td>\n",
       "      <td>6433.0</td>\n",
       "      <td>1455.0</td>\n",
       "      <td>0.01</td>\n",
       "      <td>4.42</td>\n",
       "    </tr>\n",
       "    <tr>\n",
       "      <th>2016</th>\n",
       "      <td>32.0</td>\n",
       "      <td>NaN</td>\n",
       "      <td>8359.0</td>\n",
       "      <td>7583.0</td>\n",
       "      <td>1491.0</td>\n",
       "      <td>NaN</td>\n",
       "      <td>5.09</td>\n",
       "    </tr>\n",
       "    <tr>\n",
       "      <th>2017</th>\n",
       "      <td>31.0</td>\n",
       "      <td>NaN</td>\n",
       "      <td>9844.0</td>\n",
       "      <td>9640.0</td>\n",
       "      <td>2441.0</td>\n",
       "      <td>NaN</td>\n",
       "      <td>3.95</td>\n",
       "    </tr>\n",
       "  </tbody>\n",
       "</table>\n",
       "</div>"
      ],
      "text/plain": [
       "      Short-term debt  Other long-term liabilities  \\\n",
       "Year                                                 \n",
       "2013              NaN                         97.0   \n",
       "2014              NaN                          NaN   \n",
       "2015             80.0                          0.0   \n",
       "2016             32.0                          NaN   \n",
       "2017             31.0                          NaN   \n",
       "\n",
       "      Total stockholders' equity  Total current assets  \\\n",
       "Year                                                     \n",
       "2013                      5002.0                4083.0   \n",
       "2014                      5922.0                5427.0   \n",
       "2015                      7014.0                6433.0   \n",
       "2016                      8359.0                7583.0   \n",
       "2017                      9844.0                9640.0   \n",
       "\n",
       "      Total current liabilities  负债权益比  流动比率  \n",
       "Year                                          \n",
       "2013                      798.0    NaN  5.12  \n",
       "2014                     1357.0    NaN  4.00  \n",
       "2015                     1455.0   0.01  4.42  \n",
       "2016                     1491.0    NaN  5.09  \n",
       "2017                     2441.0    NaN  3.95  "
      ]
     },
     "execution_count": 2,
     "metadata": {},
     "output_type": "execute_result"
    }
   ],
   "source": [
    "business.debtEquityReport()"
   ]
  },
  {
   "cell_type": "markdown",
   "metadata": {},
   "source": [
    "# 产品具有长远的生命力\n",
    "- 30年后，产品还是人们需要的吗？还是热销产品吗？还能做到行业前列吗？\n",
    "- 生命力长的企业，给我们带来持续的收益\n",
    "- 避免频繁买卖产生的税费和手续费\n"
   ]
  },
  {
   "cell_type": "markdown",
   "metadata": {},
   "source": [
    "# 稳定，可以理解的生意\n",
    "- 评估变量：所有者权益/每股，净利润/每股，负债等财务数据的增长情况\n",
    "- 财务数据稳定，对它的预测的确定性相对更好，因此很容易评估其内含价值\n",
    "- 生意是稳定的，并不一定比不稳定的更挣钱，只是更利于我们去衡量它的价值\n",
    "- 我们必须能够理解这么生意，才会有兴趣和心思去挖掘它的价值；如果没有搞明白这门生意，我们就只能根据别人的观点作决定，这是非常危险的\n",
    "- 阿胶的生意，就是生产阿胶，卖阿胶，定位滋补保健品\n",
    "- 阿胶的稳定性可以通过这些指标衡量："
   ]
  },
  {
   "cell_type": "code",
   "execution_count": 3,
   "metadata": {},
   "outputs": [
    {
     "data": {
      "image/png": "[encoded data removed]",
      "text/plain": [
       "<Figure size 576x288 with 1 Axes>"
      ]
     },
     "metadata": {},
     "output_type": "display_data"
    },
    {
     "data": {
      "image/png": "[encoded data removed]",
      "text/plain": [
       "<Figure size 576x288 with 1 Axes>"
      ]
     },
     "metadata": {},
     "output_type": "display_data"
    }
   ],
   "source": [
    "business.chartBookValue()\n",
    "business.chartEPS()"
   ]
  },
  {
   "cell_type": "markdown",
   "metadata": {},
   "source": [
    "# DCF评估\n",
    "1. 以10年国债的收益率作为市场无风险利率: **3.6%** \n",
    "2. 假设市场风险溢价: **3.5%** \n",
    "3. Beta设为0.76 \n",
    "4. 阿胶2018年一季度，短期，长期负债和为 47.4 + 0 = 3.2(百万)，相对于当前市值34710(百万)，微乎其微，下面计算时省略\n",
    "5. 根据上面的信息，计算出的加权平均资本成本wacc为 6.26%\n",
    "6. 假设5年后直至若个年，阿胶增长与市场增长相当，设为3%\n",
    "7. 未来的自由现金流预测，选取过去5年的值，作线性回归，根据回归直线预计下一个5年的的自由现金流\n",
    "9. 根据上述的数据，DCF得出当前每股的内涵价值为 82.51(元)\n"
   ]
  },
  {
   "cell_type": "code",
   "execution_count": 4,
   "metadata": {
    "collapsed": true
   },
   "outputs": [
    {
     "name": "stderr",
     "output_type": "stream",
     "text": [
      "/anaconda2/envs/python3env/lib/python3.6/site-packages/scipy/linalg/basic.py:1226: RuntimeWarning: internal gelsd driver lwork query error, required iwork dimension not returned. This is likely the result of LAPACK bug 0038, fixed in LAPACK 3.2.2 (released July 21, 2010). Falling back to 'gelss' driver.\n",
      "  warnings.warn(mesg, RuntimeWarning)\n"
     ]
    }
   ],
   "source": [
    "factorReport, fcfReport, valuationReport = business.showDCFReport()"
   ]
  },
  {
   "cell_type": "code",
   "execution_count": 5,
   "metadata": {},
   "outputs": [
    {
     "data": {
      "text/html": [
       "<div>\n",
       "<style scoped>\n",
       "    .dataframe tbody tr th:only-of-type {\n",
       "        vertical-align: middle;\n",
       "    }\n",
       "\n",
       "    .dataframe tbody tr th {\n",
       "        vertical-align: top;\n",
       "    }\n",
       "\n",
       "    .dataframe thead th {\n",
       "        text-align: right;\n",
       "    }\n",
       "</style>\n",
       "<table border=\"1\" class=\"dataframe\">\n",
       "  <thead>\n",
       "    <tr style=\"text-align: right;\">\n",
       "      <th></th>\n",
       "      <th>beta</th>\n",
       "      <th>costOfDebt</th>\n",
       "      <th>costOfEquity</th>\n",
       "      <th>fcfGrowth</th>\n",
       "      <th>marketCap</th>\n",
       "      <th>marketDebt</th>\n",
       "      <th>perpetuityGrowth</th>\n",
       "      <th>riskFree</th>\n",
       "      <th>riskPremium</th>\n",
       "      <th>taxRate</th>\n",
       "      <th>wacc</th>\n",
       "    </tr>\n",
       "  </thead>\n",
       "  <tbody>\n",
       "    <tr>\n",
       "      <th>0</th>\n",
       "      <td>0.76</td>\n",
       "      <td>0.03</td>\n",
       "      <td>0.0626</td>\n",
       "      <td>0.2938</td>\n",
       "      <td>34920.0</td>\n",
       "      <td>0</td>\n",
       "      <td>0.03</td>\n",
       "      <td>0.036</td>\n",
       "      <td>0.035</td>\n",
       "      <td>0.1514</td>\n",
       "      <td>0.0626</td>\n",
       "    </tr>\n",
       "  </tbody>\n",
       "</table>\n",
       "</div>"
      ],
      "text/plain": [
       "   beta  costOfDebt  costOfEquity  fcfGrowth  marketCap  marketDebt  \\\n",
       "0  0.76        0.03        0.0626     0.2938    34920.0           0   \n",
       "\n",
       "   perpetuityGrowth  riskFree  riskPremium  taxRate    wacc  \n",
       "0              0.03     0.036        0.035   0.1514  0.0626  "
      ]
     },
     "execution_count": 5,
     "metadata": {},
     "output_type": "execute_result"
    }
   ],
   "source": [
    "factorReport"
   ]
  },
  {
   "cell_type": "code",
   "execution_count": 6,
   "metadata": {},
   "outputs": [
    {
     "data": {
      "text/html": [
       "<div>\n",
       "<style scoped>\n",
       "    .dataframe tbody tr th:only-of-type {\n",
       "        vertical-align: middle;\n",
       "    }\n",
       "\n",
       "    .dataframe tbody tr th {\n",
       "        vertical-align: top;\n",
       "    }\n",
       "\n",
       "    .dataframe thead th {\n",
       "        text-align: right;\n",
       "    }\n",
       "</style>\n",
       "<table border=\"1\" class=\"dataframe\">\n",
       "  <thead>\n",
       "    <tr style=\"text-align: right;\">\n",
       "      <th></th>\n",
       "      <th>Free cash flow</th>\n",
       "      <th>fcf present</th>\n",
       "      <th>terminal value</th>\n",
       "      <th>terminal value present</th>\n",
       "    </tr>\n",
       "    <tr>\n",
       "      <th>year</th>\n",
       "      <th></th>\n",
       "      <th></th>\n",
       "      <th></th>\n",
       "      <th></th>\n",
       "    </tr>\n",
       "  </thead>\n",
       "  <tbody>\n",
       "    <tr>\n",
       "      <th>2018</th>\n",
       "      <td>1232.7</td>\n",
       "      <td>1160.08</td>\n",
       "      <td>0.0</td>\n",
       "      <td>0.00</td>\n",
       "    </tr>\n",
       "    <tr>\n",
       "      <th>2019</th>\n",
       "      <td>1431.0</td>\n",
       "      <td>1267.36</td>\n",
       "      <td>0.0</td>\n",
       "      <td>0.00</td>\n",
       "    </tr>\n",
       "    <tr>\n",
       "      <th>2020</th>\n",
       "      <td>1629.3</td>\n",
       "      <td>1357.97</td>\n",
       "      <td>0.0</td>\n",
       "      <td>0.00</td>\n",
       "    </tr>\n",
       "    <tr>\n",
       "      <th>2021</th>\n",
       "      <td>1827.6</td>\n",
       "      <td>1433.51</td>\n",
       "      <td>0.0</td>\n",
       "      <td>0.00</td>\n",
       "    </tr>\n",
       "    <tr>\n",
       "      <th>2022</th>\n",
       "      <td>2025.9</td>\n",
       "      <td>1495.44</td>\n",
       "      <td>64008.5</td>\n",
       "      <td>47248.56</td>\n",
       "    </tr>\n",
       "  </tbody>\n",
       "</table>\n",
       "</div>"
      ],
      "text/plain": [
       "      Free cash flow  fcf present  terminal value  terminal value present\n",
       "year                                                                     \n",
       "2018          1232.7      1160.08             0.0                    0.00\n",
       "2019          1431.0      1267.36             0.0                    0.00\n",
       "2020          1629.3      1357.97             0.0                    0.00\n",
       "2021          1827.6      1433.51             0.0                    0.00\n",
       "2022          2025.9      1495.44         64008.5                47248.56"
      ]
     },
     "execution_count": 6,
     "metadata": {},
     "output_type": "execute_result"
    }
   ],
   "source": [
    "fcfReport"
   ]
  },
  {
   "cell_type": "code",
   "execution_count": 7,
   "metadata": {},
   "outputs": [
    {
     "data": {
      "text/html": [
       "<div>\n",
       "<style scoped>\n",
       "    .dataframe tbody tr th:only-of-type {\n",
       "        vertical-align: middle;\n",
       "    }\n",
       "\n",
       "    .dataframe tbody tr th {\n",
       "        vertical-align: top;\n",
       "    }\n",
       "\n",
       "    .dataframe thead th {\n",
       "        text-align: right;\n",
       "    }\n",
       "</style>\n",
       "<table border=\"1\" class=\"dataframe\">\n",
       "  <thead>\n",
       "    <tr style=\"text-align: right;\">\n",
       "      <th></th>\n",
       "      <th>Intrinsic Value(M)</th>\n",
       "      <th>Market Debt(M)</th>\n",
       "      <th>Present Value Sum(M)</th>\n",
       "      <th>Shares Outstanding(M)</th>\n",
       "      <th>Value Per Share</th>\n",
       "    </tr>\n",
       "  </thead>\n",
       "  <tbody>\n",
       "    <tr>\n",
       "      <th>0</th>\n",
       "      <td>53962.92</td>\n",
       "      <td>0</td>\n",
       "      <td>53962.92</td>\n",
       "      <td>654.02</td>\n",
       "      <td>82.51</td>\n",
       "    </tr>\n",
       "  </tbody>\n",
       "</table>\n",
       "</div>"
      ],
      "text/plain": [
       "   Intrinsic Value(M)  Market Debt(M)  Present Value Sum(M)  \\\n",
       "0            53962.92               0              53962.92   \n",
       "\n",
       "   Shares Outstanding(M)  Value Per Share  \n",
       "0                 654.02            82.51  "
      ]
     },
     "execution_count": 7,
     "metadata": {},
     "output_type": "execute_result"
    }
   ],
   "source": [
    "valuationReport"
   ]
  },
  {
   "cell_type": "code",
   "execution_count": 8,
   "metadata": {},
   "outputs": [
    {
     "data": {
      "image/png": "[encoded data removed]",
      "text/plain": [
       "<Figure size 1152x288 with 2 Axes>"
      ]
     },
     "metadata": {},
     "output_type": "display_data"
    }
   ],
   "source": [
    "business.chartPredictFCF(fcfReport=fcfReport)"
   ]
  },
  {
   "cell_type": "code",
   "execution_count": null,
   "metadata": {},
   "outputs": [],
   "source": []
  }
 ],
 "metadata": {
  "kernelspec": {
   "display_name": "Python 3",
   "language": "python",
   "name": "python3"
  },
  "language_info": {
   "codemirror_mode": {
    "name": "ipython",
    "version": 3
   },
   "file_extension": ".py",
   "mimetype": "text/x-python",
   "name": "python",
   "nbconvert_exporter": "python",
   "pygments_lexer": "ipython3",
   "version": "3.6.5"
  }
 },
 "nbformat": 4,
 "nbformat_minor": 2
}
