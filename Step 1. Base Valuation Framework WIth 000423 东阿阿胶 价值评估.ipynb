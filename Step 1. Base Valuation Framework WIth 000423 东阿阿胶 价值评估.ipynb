{
 "cells": [
  {
   "cell_type": "markdown",
   "metadata": {},
   "source": [
    "### 四条投资原则\n",
    "- 企业由警惕的领导者管理\n",
    "- 产品具有长远的生命力\n",
    "- 稳定，可以理解的生意\n",
    "- 价格具有安全边际"
   ]
  },
  {
   "cell_type": "markdown",
   "metadata": {},
   "source": [
    "### 警惕的领导者\n",
    "- 企业领导者细心观察生意，发现及预防可能出现的危险\n",
    "- 债务是企业遇到的主要危险之一\n",
    "- 衡量债务风险的两个工具：\n",
    " 1. 负债权益比\n",
    "   * 良好的标准：债务权益比 < 0.50\n",
    "   * 2018Q1阿胶的负债权益比 = (短期负债+长期负债)/权益 = 47/10472 = 0.04，非常健康\n",
    " 2. 流动比率\n",
    "   * 良好的标准：流动比率 > 1.50\n",
    "   * 2018Q1阿胶的流动比率 = 流动资产/流动负债 = 9966 / 2202 = 4.53, 非常健康"
   ]
  },
  {
   "cell_type": "markdown",
   "metadata": {},
   "source": [
    "### 产品具有长远的生命力\n",
    "- 30年后，产品还是人们需要的吗？还是热销产品吗？还能做到行业前列吗？\n",
    "- 生命力长的企业，给我们带来持续的收益\n",
    "- 避免频繁买卖产生的税费和手续费"
   ]
  },
  {
   "attachments": {},
   "cell_type": "markdown",
   "metadata": {},
   "source": [
    "### 稳定，可以理解的生意\n",
    "- 评估变量：所有者权益/每股，净利润/每股，负债等财务数据的增长情况\n",
    "- 财务数据稳定，对它的预测的确定性相对更好，因此很容易评估其内含价值\n",
    "- 生意是稳定的，并不一定比不稳定的更挣钱，只是更利于我们去衡量它的价值\n",
    "- 我们必须能够理解这么生意，才会有兴趣和心思去挖掘它的价值；如果没有搞明白这门生意，我们就只能根据别人的观点作决定，这是非常危险的\n",
    "- 阿胶的生意，就是生产阿胶，卖阿胶，定位滋补保健品\n",
    "- 阿胶的稳定性可以通过这些指标衡量：\n",
    "![权益](img/000423-equity.jpg)![债务](img/000423-liabilities.jpg)![净利润](img/000423-net-income.jpg)"
   ]
  },
  {
   "cell_type": "markdown",
   "metadata": {},
   "source": [
    "### 价格具有安全边际\n",
    "- 一家企业的价值等于它未来自由现金流总和的现值\n",
    "- Book Value和分红都来源与EPS, 有一部分(EPS - BookValue - Divident)将会流出系统\n",
    "- BookValue的变化于企业内含价值的变化非常接近\n"
   ]
  },
  {
   "attachments": {},
   "cell_type": "markdown",
   "metadata": {},
   "source": [
    "### DCF评估\n",
    "1. 以10年国债的收益率作为市场无风险利率: **3.6%** (信息来源: [tradingeconomics.com](https://tradingeconomics.com/china/government-bond-yield))\n",
    "2. 假设市场风险溢价: **3.5%** (信息来源: [Market Risk Premia](http://www.market-risk-premia.com/cn.html))\n",
    "3. Beta设为0.75 (信息来源MSN Money)\n",
    "4. 阿胶2018年一季度，短期，长期负债和为 47.4 + 0 = 3.2(百万)，相对于当前市值34710(百万)，微乎其微，下面计算时省略\n",
    "5. 根据上面的信息，计算出的加权平均资本成本wacc为 6.23%\n",
    "6. 假设5年后直至若个年，阿胶增长与市场增长相当，设为3%\n",
    "7. 2017年底，自由现金流为1443(百万)，假设以后5年自由现金流增长率为5%\n",
    "8. 阿胶流动股为654(百万)\n",
    "9. 根据上述的数据，DCF得出当前每股的内涵价值为 78.45(元)\n",
    "10. 计算模型:\n",
    "![image.png](img/000423-value.jpg)"
   ]
  },
  {
   "cell_type": "code",
   "execution_count": null,
   "metadata": {},
   "outputs": [],
   "source": []
  }
 ],
 "metadata": {
  "kernelspec": {
   "display_name": "Python 3",
   "language": "python",
   "name": "python3"
  },
  "language_info": {
   "codemirror_mode": {
    "name": "ipython",
    "version": 3
   },
   "file_extension": ".py",
   "mimetype": "text/x-python",
   "name": "python",
   "nbconvert_exporter": "python",
   "pygments_lexer": "ipython3",
   "version": "3.6.5"
  }
 },
 "nbformat": 4,
 "nbformat_minor": 2
}
